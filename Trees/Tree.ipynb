{
 "cells": [
  {
   "cell_type": "code",
   "execution_count": null,
   "metadata": {},
   "outputs": [],
   "source": [
    "def getHeight(root, heights): # how far away nodes are from the leaves\n",
    "    if not root:\n",
    "        return 0\n",
    "    height = max(getHeight(root.left, heights), getHeight(root.right, heights)) + 1\n",
    "    heights[height].append(root.val)\n",
    "    return height"
   ]
  }
 ],
 "metadata": {
  "language_info": {
   "name": "python"
  },
  "orig_nbformat": 4
 },
 "nbformat": 4,
 "nbformat_minor": 2
}
