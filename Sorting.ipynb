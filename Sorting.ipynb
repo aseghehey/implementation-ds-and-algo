{
 "cells": [
  {
   "cell_type": "code",
   "execution_count": 120,
   "metadata": {},
   "outputs": [],
   "source": [
    "import random\n",
    "# input arrays:\n",
    "arr = []\n",
    "for i in range(1000000):\n",
    "    arr.append(random.randrange(1,100))"
   ]
  },
  {
   "cell_type": "markdown",
   "metadata": {},
   "source": [
    "Bubble sort:"
   ]
  },
  {
   "cell_type": "code",
   "execution_count": 43,
   "metadata": {},
   "outputs": [],
   "source": [
    "def bubbleSort(arr):\n",
    "    for i in range(len(arr)):\n",
    "        for j in range(i + 1, len(arr)):\n",
    "            if arr[j] < arr[i]:\n",
    "                temp = arr[i]\n",
    "                arr[i] = arr[j]\n",
    "                arr[j] = temp\n",
    "    return arr"
   ]
  },
  {
   "cell_type": "markdown",
   "metadata": {},
   "source": [
    "Selection sort:"
   ]
  },
  {
   "cell_type": "code",
   "execution_count": 45,
   "metadata": {},
   "outputs": [],
   "source": [
    "def selectionSort(arr):\n",
    "    for i in range(len(arr)):\n",
    "        min_location = i\n",
    "        for j in range(i + 1, len(arr)):\n",
    "            if arr[j] < arr[min_location]:\n",
    "                min_location = j\n",
    "        temp = arr[i]\n",
    "        arr[i] = arr[min_location]\n",
    "        arr[min_location] = temp\n",
    "    return arr"
   ]
  },
  {
   "cell_type": "markdown",
   "metadata": {},
   "source": [
    "Insertion Sort:"
   ]
  },
  {
   "cell_type": "code",
   "execution_count": 65,
   "metadata": {},
   "outputs": [],
   "source": [
    "def insertionSort(arr):\n",
    "    for i in range(len(arr)):\n",
    "        ins = arr[i]\n",
    "        shift = i\n",
    "\n",
    "        while shift > 0 and ins < arr[shift - 1]:\n",
    "            arr[shift] = arr[shift - 1]\n",
    "            shift -= 1\n",
    "\n",
    "        arr[shift] = ins\n",
    "    return arr"
   ]
  },
  {
   "cell_type": "markdown",
   "metadata": {},
   "source": [
    "Merge Sort:"
   ]
  },
  {
   "cell_type": "code",
   "execution_count": 68,
   "metadata": {},
   "outputs": [],
   "source": [
    "def mergeSort(arr):\n",
    "    if len(arr) > 1:\n",
    "        mid = len(arr) // 2\n",
    "        left = arr[:mid]\n",
    "        right = arr[mid:]\n",
    "\n",
    "        mergeSort(left)\n",
    "        mergeSort(right)\n",
    "\n",
    "        i, j = 0, 0\n",
    "        k = 0\n",
    "\n",
    "        while i < len(left) and j < len(right):\n",
    "            if left[i] <= right[j]:\n",
    "                arr[k] = left[i]\n",
    "                i += 1\n",
    "            else:\n",
    "                arr[k] = right[j]\n",
    "                j += 1\n",
    "            k += 1\n",
    "        \n",
    "        while i < len(left):\n",
    "            arr[k] = left[i]\n",
    "            i += 1\n",
    "            k += 1\n",
    "\n",
    "        while j < len(right):\n",
    "            arr[k] = right[j]\n",
    "            j += 1\n",
    "            k += 1\n",
    "    return arr"
   ]
  },
  {
   "cell_type": "markdown",
   "metadata": {},
   "source": [
    "Quick Sort:"
   ]
  },
  {
   "cell_type": "code",
   "execution_count": 84,
   "metadata": {},
   "outputs": [],
   "source": [
    "def QuickSort(arr):\n",
    "    n = len(arr)\n",
    "    \n",
    "    if n < 2:\n",
    "        return arr\n",
    "\n",
    "    pos = 0\n",
    "\n",
    "    for i in range(1, n):\n",
    "        if arr[i] <= arr[0]:\n",
    "            pos += 1\n",
    "            temp = arr[i]\n",
    "            arr[i] = arr[pos]\n",
    "            arr[pos] = temp\n",
    "    \n",
    "    temp = arr[0]\n",
    "    arr[0] = arr[pos]\n",
    "    arr[pos] = arr[0]\n",
    "\n",
    "    left = QuickSort(arr[:pos])\n",
    "    right = QuickSort(arr[pos + 1:n])\n",
    "\n",
    "    arr = left + [arr[pos]] +  right \n",
    "\n",
    "    return arr"
   ]
  },
  {
   "cell_type": "code",
   "execution_count": 122,
   "metadata": {},
   "outputs": [
    {
     "data": {
      "text/plain": [
       "True"
      ]
     },
     "execution_count": 122,
     "metadata": {},
     "output_type": "execute_result"
    }
   ],
   "source": [
    "mergeSort(arr) == insertionSort(arr)"
   ]
  }
 ],
 "metadata": {
  "kernelspec": {
   "display_name": "Python 3.9.7 64-bit",
   "language": "python",
   "name": "python3"
  },
  "language_info": {
   "codemirror_mode": {
    "name": "ipython",
    "version": 3
   },
   "file_extension": ".py",
   "mimetype": "text/x-python",
   "name": "python",
   "nbconvert_exporter": "python",
   "pygments_lexer": "ipython3",
   "version": "3.9.7"
  },
  "orig_nbformat": 4,
  "vscode": {
   "interpreter": {
    "hash": "aee8b7b246df8f9039afb4144a1f6fd8d2ca17a180786b69acc140d282b71a49"
   }
  }
 },
 "nbformat": 4,
 "nbformat_minor": 2
}
